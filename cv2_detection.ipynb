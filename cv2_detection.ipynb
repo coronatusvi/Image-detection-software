{
 "cells": [
  {
   "cell_type": "code",
   "execution_count": 1,
   "metadata": {},
   "outputs": [],
   "source": [
    "import easyocr\n",
    "import re"
   ]
  },
  {
   "cell_type": "code",
   "execution_count": 2,
   "metadata": {},
   "outputs": [],
   "source": [
    "import cv2\n",
    "import matplotlib.pyplot as plt\n",
    "\n",
    "def imshow(title=\"\", image=None, is_gray = False):\n",
    "  if is_gray:\n",
    "    plt.imshow(image, cmap='gray')\n",
    "  else:\n",
    "    image = cv2.cvtColor(image,cv2.COLOR_BGR2RGB)\n",
    "    plt.imshow(image)\n",
    "  plt.title(title)\n",
    "  plt.show()    "
   ]
  },
  {
   "cell_type": "code",
   "execution_count": 3,
   "metadata": {},
   "outputs": [],
   "source": [
    "import os"
   ]
  },
  {
   "cell_type": "code",
   "execution_count": null,
   "metadata": {},
   "outputs": [],
   "source": [
    "def is_license_plate(text):\n",
    "    pattern = r'\\b\\d{2}-[A-Z]{1}\\d{1}\\d{3}[\\.\\-]?\\d{2}\\b'\n",
    "    return bool(re.search(pattern, text))\n",
    "\n",
    "def process_text(text):\n",
    "    # Loại bỏ khoảng trắng và ký tự xuống dòng thừa\n",
    "    cleaned_text = re.sub(r'[\\s\\n\\r]+', '', text)\n",
    "\n",
    "    for i in range(len(cleaned_text) - 1):\n",
    "        substring = cleaned_text[i:i+12]\n",
    "        if is_license_plate(substring):\n",
    "            print(f\" => Detected License Plate Text: {substring}\")\n",
    "            return\n",
    "    print(\" => Not a license plate\")\n",
    "\n",
    "\n",
    "def process_images_in_directory(directory_path):\n",
    "    reader = easyocr.Reader(['en'])\n",
    "\n",
    "    for filename in os.listdir(directory_path):\n",
    "        if filename.lower().endswith(('.jpeg', '.jpg', '.png')):\n",
    "            image_path = os.path.join(directory_path, filename)\n",
    "            print(f\"Processing {image_path}\")\n",
    "            result = reader.readtext(data)\n",
    "            text = \" \".join([res[1] for res in result])\n",
    "\n",
    "# Update the path to the directory containing your images\n",
    "images_directory = \"/content/images\"  # Thay đổi đường dẫn này nếu cần\n",
    "process_images_in_directory(images_directory)"
   ]
  },
  {
   "cell_type": "code",
   "execution_count": null,
   "metadata": {},
   "outputs": [],
   "source": [
    "# Xử lý từng tệp tin đã tải lên\n",
    "for filename, data in uploaded.items():\n",
    "    print(f\"Processing {filename}\")\n",
    "    result = reader.readtext(data)\n",
    "    text = \" \".join([res[1] for res in result])\n",
    "    print(\"Detected Text:\", text)\n",
    "    process_text(text)\n",
    "    image = cv2.imread(\"/content/\" + filename)\n",
    "    titleImage = \"Image \" + \" => \" + text\n",
    "    imshow(titleImage, image)"
   ]
  },
  {
   "cell_type": "code",
   "execution_count": null,
   "metadata": {},
   "outputs": [],
   "source": [
    "def is_license_plate(text):\n",
    "    pattern = r'\\b\\d{2}-[A-Z]{1}\\d{1}\\d{3}[\\.\\-]?\\d{2}\\b'\n",
    "    return bool(re.search(pattern, text))\n",
    "\n",
    "def process_text(text):\n",
    "    # Loại bỏ khoảng trắng và ký tự xuống dòng thừa\n",
    "    cleaned_text = re.sub(r'[\\s\\n\\r]+', '', text)\n",
    "\n",
    "    for i in range(len(cleaned_text) - 1):\n",
    "        substring = cleaned_text[i:i+12]\n",
    "        if is_license_plate(substring):\n",
    "            print(f\" => Detected License Plate Text: {substring}\")\n",
    "            return\n",
    "    print(\" => Not a license plate\", text)\n",
    "\n",
    "def process_images_in_directory(directory_path):\n",
    "    reader = easyocr.Reader(['en'])\n",
    "\n",
    "    for filename in os.listdir(directory_path):\n",
    "        if filename.lower().endswith(('.jpeg', '.jpg', '.png')):\n",
    "            image_path = os.path.join(directory_path, filename)\n",
    "            print(f\"Processing {image_path}\")\n",
    "            result = reader.readtext(image_path)\n",
    "            text = \" \".join([res[1] for res in result])\n",
    "            process_text(text)\n",
    "\n",
    "# Update the path to the directory containing your images\n",
    "images_directory = \"images\"  # Thay đổi đường dẫn này nếu cần\n",
    "process_images_in_directory(images_directory)"
   ]
  }
 ],
 "metadata": {
  "kernelspec": {
   "display_name": "Python 3",
   "language": "python",
   "name": "python3"
  },
  "language_info": {
   "codemirror_mode": {
    "name": "ipython",
    "version": 3
   },
   "file_extension": ".py",
   "mimetype": "text/x-python",
   "name": "python",
   "nbconvert_exporter": "python",
   "pygments_lexer": "ipython3",
   "version": "3.11.9"
  }
 },
 "nbformat": 4,
 "nbformat_minor": 2
}
